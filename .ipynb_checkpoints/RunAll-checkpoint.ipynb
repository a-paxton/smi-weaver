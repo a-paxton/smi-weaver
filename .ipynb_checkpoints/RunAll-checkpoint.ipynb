{
 "cells": [
  {
   "cell_type": "code",
   "execution_count": 31,
   "metadata": {
    "collapsed": false
   },
   "outputs": [
    {
     "name": "stdout",
     "output_type": "stream",
     "text": [
      "Processing video/image sequence of the subject (may take a few minutes/subject): 49225\n",
      "Processing image % 10.0056529112\n",
      "Processing image % 20.0113058225\n",
      "Processing image % 30.0169587337\n",
      "Processing image % 40.022611645\n",
      "Processing image % 50.0282645562\n",
      "Processing image % 60.0339174675\n",
      "Processing image % 70.0395703787\n",
      "Processing image % 80.04522329\n",
      "Processing image % 90.0508762012\n",
      "data/rawdata/49225-eye_data Samples.txt\n"
     ]
    }
   ],
   "source": [
    "execfile('convertWMV.py') \n",
    "execfile('getBodyVoice.py')\n",
    "execfile('alignSamples.py')\n",
    "\n",
    "\n"
   ]
  },
  {
   "cell_type": "code",
   "execution_count": 9,
   "metadata": {
    "collapsed": false
   },
   "outputs": [
    {
     "name": "stdout",
     "output_type": "stream",
     "text": [
      "49225\n"
     ]
    }
   ],
   "source": [
    "execfile('makeTrialVideo.py')"
   ]
  },
  {
   "cell_type": "code",
   "execution_count": 30,
   "metadata": {
    "collapsed": false
   },
   "outputs": [
    {
     "name": "stdout",
     "output_type": "stream",
     "text": [
      "        Time Type Trial L Raw X [px] L Raw Y [px] R Raw X [px] R Raw Y [px]  \\\n",
      "0  195867806  SMP     1       588.48       436.01       868.73       444.17   \n",
      "1  195876094  SMP     1       589.87       438.10       868.44       444.36   \n",
      "2  195884296  SMP     1       589.53       438.10       868.49       444.65   \n",
      "3  195892682  SMP     1       589.69       442.59       868.49       445.39   \n",
      "4  195901045  SMP     1       589.63       443.36       868.46       445.98   \n",
      "\n",
      "  L Dia X [px] L Dia Y [px] L Mapped Diameter [mm] ...  R EPOS Y R EPOS Z  \\\n",
      "0        11.13        11.13                   4.26 ...     14.86   542.82   \n",
      "1        15.98        15.98                   4.17 ...     14.81   542.46   \n",
      "2        14.77        14.77                   4.05 ...     14.77   543.26   \n",
      "3        21.10        21.10                   4.21 ...     14.70   542.85   \n",
      "4        20.79        20.79                   4.34 ...     14.56   541.93   \n",
      "\n",
      "  L GVEC X L GVEC Y L GVEC Z R GVEC X R GVEC Y R GVEC Z Frame Aux1  \n",
      "0     0.00     0.00     0.00    -0.18     0.11    -0.98    -1  NaN  \n",
      "1     0.00     0.00     0.00    -0.18     0.11    -0.98    -1  NaN  \n",
      "2     0.00     0.00     0.00    -0.19     0.11    -0.98    -1  NaN  \n",
      "3    -0.07     0.12    -0.99    -0.20     0.13    -0.97    -1  NaN  \n",
      "4    -0.07     0.13    -0.99    -0.21     0.14    -0.97    -1  NaN  \n",
      "\n",
      "[5 rows x 52 columns]\n"
     ]
    },
    {
     "data": {
      "text/plain": [
       "[<matplotlib.lines.Line2D at 0x10abe3250>]"
      ]
     },
     "execution_count": 30,
     "metadata": {},
     "output_type": "execute_result"
    },
    {
     "data": {
      "image/png": "[encoded data removed]",
      "text/plain": [
       "<matplotlib.figure.Figure at 0x10a56b610>"
      ]
     },
     "metadata": {},
     "output_type": "display_data"
    }
   ],
   "source": [
    "print(a[0:5])\n",
    "import matplotlib.pyplot as plt\n",
    "%matplotlib inline\n",
    "plt.plot(a['L Raw X [px]'][0:1000])"
   ]
  },
  {
   "cell_type": "code",
   "execution_count": null,
   "metadata": {
    "collapsed": true
   },
   "outputs": [],
   "source": []
  }
 ],
 "metadata": {
  "kernelspec": {
   "display_name": "Python 2",
   "language": "python",
   "name": "python2"
  },
  "language_info": {
   "codemirror_mode": {
    "name": "ipython",
    "version": 2
   },
   "file_extension": ".py",
   "mimetype": "text/x-python",
   "name": "python",
   "nbconvert_exporter": "python",
   "pygments_lexer": "ipython2",
   "version": "2.7.10"
  }
 },
 "nbformat": 4,
 "nbformat_minor": 0
}
